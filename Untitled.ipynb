{
 "cells": [
  {
   "cell_type": "code",
   "execution_count": 1,
   "id": "fac4eab1",
   "metadata": {},
   "outputs": [],
   "source": [
    "import mediapipe as mp\n",
    "import cv2\n",
    "import dlib\n",
    "from imutils import face_utils\n",
    "from mediapipe.framework.formats import landmark_pb2\n",
    "import numpy as np\n",
    "import matplotlib.pyplot as plt\n",
    "\n",
    "import opencv_plot\n",
    "from opencv_plot import Plotter\n",
    "import random\n",
    "import math\n",
    "import os\n",
    "\n",
    "from scipy.spatial import distance as dist"
   ]
  },
  {
   "cell_type": "code",
   "execution_count": 44,
   "id": "c4505109",
   "metadata": {},
   "outputs": [
    {
     "name": "stdout",
     "output_type": "stream",
     "text": [
      "Requirement already satisfied: imutils in c:\\users\\alexe\\anaconda3\\lib\\site-packages (0.5.4)\n"
     ]
    }
   ],
   "source": [
    "!pip install --upgrade imutils"
   ]
  },
  {
   "cell_type": "code",
   "execution_count": 2,
   "id": "13497b99",
   "metadata": {},
   "outputs": [],
   "source": [
    "mp_drawing = mp.solutions.drawing_utils\n",
    "mp_pose = mp.solutions.pose.Pose(\n",
    "        static_image_mode=False,\n",
    "        model_complexity=2,\n",
    "        enable_segmentation=False,\n",
    "        min_detection_confidence=0.5)\n",
    "\n",
    "#path_face_dots = 'shape_predictor_5_face_landmarks.dat'\n",
    "path_face_dots = 'shape_predictor_68_face_landmarks.dat'\n",
    "face_detector = dlib.get_frontal_face_detector()\n",
    "face_predictor = dlib.shape_predictor(path_face_dots)"
   ]
  },
  {
   "cell_type": "code",
   "execution_count": 3,
   "id": "765a9abf",
   "metadata": {},
   "outputs": [],
   "source": [
    "f_eye = 'distance_between_ eye_points.txt' #текстовый файл для записи расстояния между глазами\n",
    "f_eye_shoulders = 'distance_between_ eye_shoulders_points.txt'\n",
    "f_ear = 'ear.txt'"
   ]
  },
  {
   "cell_type": "markdown",
   "id": "0a59617c",
   "metadata": {},
   "source": [
    "### Захват видео"
   ]
  },
  {
   "cell_type": "code",
   "execution_count": 10,
   "id": "edff901a",
   "metadata": {},
   "outputs": [],
   "source": [
    "# cap = cv2.VideoCapture(0)\n",
    "# while cap.isOpened():\n",
    "#     ret, frame = cap.read()\n",
    "#     cv2.imshow('Holistic Model Detections', frame)\n",
    "    \n",
    "#     if cv2.waitKey(10) & 0xFF == ord('q'):\n",
    "#         break\n",
    "        \n",
    "# cap.release()\n",
    "# cv2.destroyAllWindows()"
   ]
  },
  {
   "cell_type": "code",
   "execution_count": 21,
   "id": "13155d63",
   "metadata": {},
   "outputs": [],
   "source": [
    "cap.release()\n",
    "cv2.destroyAllWindows()"
   ]
  },
  {
   "cell_type": "markdown",
   "id": "7e27bacc",
   "metadata": {},
   "source": [
    "### Детектор"
   ]
  },
  {
   "cell_type": "code",
   "execution_count": 4,
   "id": "f0c2db6b",
   "metadata": {},
   "outputs": [],
   "source": [
    "POSE_LANDMARK_1 = 11\n",
    "POSE_LANDMARK_2 = 12\n",
    "\n",
    "EYE_LANDMARK_1 = 36\n",
    "EYE_LANDMARK_2 = 45"
   ]
  },
  {
   "cell_type": "code",
   "execution_count": 5,
   "id": "245c5acf",
   "metadata": {},
   "outputs": [],
   "source": [
    "p = Plotter(400, 1000) #(plot_width, plot_height)   #график в реальном времени"
   ]
  },
  {
   "cell_type": "code",
   "execution_count": 6,
   "id": "871f9498",
   "metadata": {},
   "outputs": [],
   "source": [
    "def write_list_to_file (lines, file):\n",
    "    with open(file, \"w\") as f:\n",
    "        for line in lines:\n",
    "            f.write(str(line) + '\\n')\n",
    "    f.close()"
   ]
  },
  {
   "cell_type": "code",
   "execution_count": 7,
   "id": "b89a2811",
   "metadata": {},
   "outputs": [],
   "source": [
    "def write_elem_to_file (elem, file): #дозаписываем элемент в файл\n",
    "    with open(file, \"a\") as f:\n",
    "        f.write(str(elem) + '\\n')\n",
    "    f.close()"
   ]
  },
  {
   "cell_type": "code",
   "execution_count": 8,
   "id": "6c5a5794",
   "metadata": {},
   "outputs": [],
   "source": [
    "def get_list_from_file(file):\n",
    "    el = []\n",
    "    with open(file) as f:\n",
    "        for line in f:\n",
    "            el.append(float(line))\n",
    "    f.close()\n",
    "    return el"
   ]
  },
  {
   "cell_type": "code",
   "execution_count": 9,
   "id": "f613328f",
   "metadata": {},
   "outputs": [],
   "source": [
    "p = Plotter(400, 1000)\n",
    "cap = cv2.VideoCapture(0)\n",
    "length_line_eye = [] #расстояние между точками глаз \n",
    "open(f_eye, 'w').close() #очистили файл перед записью\n",
    "\n",
    "while cap.isOpened():\n",
    "    ret, frame = cap.read()\n",
    "\n",
    "    image = cv2.cvtColor(frame, cv2.COLOR_BGR2RGB)\n",
    "\n",
    "    #сделаем детектор\n",
    "    result = mp_pose.process(image)\n",
    "    image = cv2.cvtColor(image, cv2.COLOR_RGB2BGR)\n",
    "    \n",
    "    #Точки плеч\n",
    "    landmark_shl = [\n",
    "        result.pose_landmarks.landmark[POSE_LANDMARK_1],\n",
    "        result.pose_landmarks.landmark[POSE_LANDMARK_2]\n",
    "    ]\n",
    "    \n",
    "    #денормализуем координаты\n",
    "    sh_list = [] #список, хранящий денормализованные координаты плеч\n",
    "    for landmark in landmark_shl:\n",
    "        x = landmark.x\n",
    "        y = landmark.y\n",
    "\n",
    "        shape_sh = image.shape \n",
    "        relative_x = int(x *  shape_sh[1])\n",
    "        relative_y = int(y *  shape_sh[0])\n",
    "        \n",
    "        sh_list.append([relative_x, relative_y])\n",
    "        cv2.circle(image, (relative_x, relative_y), 5, (0, 0, 255), -1)\n",
    "    cv2.line(image, sh_list[0], sh_list[1], (0, 0, 255), 1) #соединим точки плеч (2 линия)\n",
    "    \n",
    "################## ЛИЦО ################################\n",
    "    gray = cv2.cvtColor(frame, cv2.COLOR_BGR2GRAY)\n",
    "    rects = face_detector(gray, 0)\n",
    "\n",
    "    #нужные точки лица\n",
    "    for (i, rect) in enumerate(rects):\n",
    "        shape = face_predictor(gray, rect)\n",
    "        shape = face_utils.shape_to_np(shape) #массив точек лица\n",
    "        for i in [36, 45]: #отрисовываем 2 нужные точки\n",
    "            x, y = shape[i]\n",
    "            cv2.circle(image, (x, y), 5, (0, 255, 0), -1)\n",
    "            \n",
    "        cv2.line(image, shape[EYE_LANDMARK_1], shape[EYE_LANDMARK_2], (0, 255, 0), 1) #соединим точки глаз (1 линия)\n",
    "        #вывод длины линии над линией и добавление длины в массив\n",
    "        length_line = cv2.norm(shape[EYE_LANDMARK_1], shape[EYE_LANDMARK_2])\n",
    "        length_line_eye.append(length_line)\n",
    "        cv2.putText(\n",
    "             image,\n",
    "             str(length_line), #Длина линии (L-2 норма)\n",
    "             (round((shape[EYE_LANDMARK_1][0] + shape[EYE_LANDMARK_2][0]) / 2)\n",
    "              , round((shape[EYE_LANDMARK_1][1] + shape[EYE_LANDMARK_2][1]) / 2)), #position at which writing has to start\n",
    "             cv2.FONT_HERSHEY_SIMPLEX,\n",
    "             0.5, \n",
    "             (209, 80, 0, 255),\n",
    "             1\n",
    "        )\n",
    "        p.plot(length_line, \"Distance between eye points\") #отрисовка точки на графике\n",
    "        write_elem_to_file(length_line, f_eye)\n",
    "\n",
    "    cv2.imshow('Raw Webcam Feed', image)\n",
    "\n",
    "    if cv2.waitKey(10) & 0xFF == ord('q'):\n",
    "        break\n",
    "        \n",
    "cap.release()\n",
    "cv2.destroyAllWindows()"
   ]
  },
  {
   "cell_type": "code",
   "execution_count": 6,
   "id": "c5c36805",
   "metadata": {},
   "outputs": [],
   "source": [
    "#запишем массив в файл\n",
    "#write_list_to_file(length_line_eye, f_eye)\n",
    "\n",
    "#теперь все пишется сразу в цикле"
   ]
  },
  {
   "cell_type": "code",
   "execution_count": 38,
   "id": "2311b4ed",
   "metadata": {},
   "outputs": [],
   "source": [
    "#получим массив из файла\n",
    "length_line_eye = get_list_from_file(f_eye)"
   ]
  },
  {
   "cell_type": "code",
   "execution_count": 39,
   "id": "67b0cf78",
   "metadata": {
    "scrolled": true
   },
   "outputs": [
    {
     "data": {
      "text/plain": [
       "[<matplotlib.lines.Line2D at 0x1e57a5ab2b0>]"
      ]
     },
     "execution_count": 39,
     "metadata": {},
     "output_type": "execute_result"
    },
    {
     "data": {
      "image/png": "[encoded data removed]",
      "text/plain": [
       "<Figure size 432x288 with 1 Axes>"
      ]
     },
     "metadata": {
      "needs_background": "light"
     },
     "output_type": "display_data"
    }
   ],
   "source": [
    "plt.title('Изменение расстояния между точками глаз')\n",
    "plt.xlabel('Время')\n",
    "plt.ylabel('Расстояние между точками глаз')\n",
    "plt.plot(length_line_eye)"
   ]
  },
  {
   "cell_type": "markdown",
   "id": "510307c0",
   "metadata": {},
   "source": [
    "### Расстояние между линией глаз и линией плеч\n",
    "\n",
    "Возьмем серединные точки прямых и найдем их L-2 норму"
   ]
  },
  {
   "cell_type": "code",
   "execution_count": 17,
   "id": "2088c871",
   "metadata": {},
   "outputs": [],
   "source": [
    "cap.release()\n",
    "cv2.destroyAllWindows()"
   ]
  },
  {
   "cell_type": "code",
   "execution_count": 10,
   "id": "2a9d8a39",
   "metadata": {
    "scrolled": true
   },
   "outputs": [],
   "source": [
    "#можно смотреть изменилась ли длина отрезка между глазами (чтобы избежать ложного срабатывания при приблежении к экрану)\n",
    "p = Plotter(400, 1000)\n",
    "cap = cv2.VideoCapture(0)\n",
    "length_line_between_shoulders_ear = [] #расстояние между точками плеч\n",
    "\n",
    "while cap.isOpened():\n",
    "    ret, frame = cap.read()\n",
    "\n",
    "    image = cv2.cvtColor(frame, cv2.COLOR_BGR2RGB)\n",
    "    \n",
    "    ################## ЛИЦО ################################\n",
    "    gray = cv2.cvtColor(frame, cv2.COLOR_BGR2GRAY)\n",
    "    rects = face_detector(gray, 0)\n",
    "\n",
    "    #нужные точки лица\n",
    "    for (i, rect) in enumerate(rects):\n",
    "        shape = face_predictor(gray, rect)\n",
    "        shape = face_utils.shape_to_np(shape) #массив точек лица\n",
    "        for i in [EYE_LANDMARK_1, EYE_LANDMARK_2]: #отрисовываем 2 нужные точки\n",
    "            x, y = shape[i]\n",
    "            cv2.circle(image, (x, y), 5, (0, 255, 0), -1)\n",
    "            \n",
    "        cv2.line(image, shape[EYE_LANDMARK_1], shape[EYE_LANDMARK_2], (0, 255, 0), 1) #соединим точки глаз (1 линия)\n",
    "        \n",
    "    ################## ПЛЕЧИ ################################\n",
    "\n",
    "    #сделаем детектор\n",
    "    result = mp_pose.process(image)\n",
    "    image = cv2.cvtColor(image, cv2.COLOR_RGB2BGR)\n",
    "    \n",
    "    #Точки плеч\n",
    "    landmark_shl = [\n",
    "        result.pose_landmarks.landmark[POSE_LANDMARK_1],\n",
    "        result.pose_landmarks.landmark[POSE_LANDMARK_2]\n",
    "    ]\n",
    "    \n",
    "    #денормализуем координаты\n",
    "    sh_list = [] #список, хранящий денормализованные координаты плеч\n",
    "    for landmark in landmark_shl:\n",
    "        x = landmark.x\n",
    "        y = landmark.y\n",
    "\n",
    "        shape_sh = image.shape \n",
    "        \n",
    "        relative_x = int(x *  shape_sh[1])\n",
    "        relative_y = int(y *  shape_sh[0])\n",
    "        \n",
    "        sh_list.append([relative_x, relative_y])\n",
    "        cv2.circle(image, (relative_x, relative_y), 5, (0, 0, 255), -1)\n",
    "    cv2.line(image, sh_list[0], sh_list[1], (0, 0, 255), 1) #соединим точки плеч (2 линия)\n",
    "    \n",
    "    #серединные точки shape[0], shape[2]\n",
    "    eye_midpoints = [round((shape[EYE_LANDMARK_1][0] + shape[EYE_LANDMARK_2][0]) / 2)\n",
    "                     , round((shape[EYE_LANDMARK_1][1] + shape[EYE_LANDMARK_2][1]) / 2)]\n",
    "    shoulder_midpoints = [round((sh_list[0][0] + sh_list[1][0]) / 2), round((sh_list[0][1] + sh_list[1][1]) / 2)]\n",
    "    \n",
    "    #построим линию по серединным точкам\n",
    "    cv2.circle(image, eye_midpoints, 5, (255, 0, 0), -1)\n",
    "    cv2.circle(image, shoulder_midpoints, 5, (255, 0, 0), -1)\n",
    "    cv2.line(image, eye_midpoints, shoulder_midpoints, (255, 0, 0), 1)\n",
    "    \n",
    "    #вывод длины линии над линией и добавление длины в массив\n",
    "    length_line = cv2.norm(np.array(eye_midpoints), np.array(shoulder_midpoints))\n",
    "    length_line_between_shoulders_ear.append(length_line)\n",
    "    cv2.putText(\n",
    "         image,\n",
    "         str(length_line), #Длина линии (L-2 норма)\n",
    "         (round((eye_midpoints[0] + shoulder_midpoints[0]) / 2), round((eye_midpoints[1] + shoulder_midpoints[1]) / 2)), #position at which writing has to start\n",
    "         cv2.FONT_HERSHEY_SIMPLEX,\n",
    "         0.5, \n",
    "         (209, 80, 0, 255),\n",
    "         1\n",
    "    )\n",
    "    p.plot(length_line, \"Distance between shoulders\") #отрисовка точки на графике\n",
    "    \n",
    "    cv2.imshow('Raw Webcam Feed', image)\n",
    "    if cv2.waitKey(10) & 0xFF == ord('q'):\n",
    "        break\n",
    "        \n",
    "cap.release()\n",
    "cv2.destroyAllWindows()"
   ]
  },
  {
   "cell_type": "code",
   "execution_count": 58,
   "id": "c6eebb0f",
   "metadata": {},
   "outputs": [],
   "source": [
    "#записали расстояние в файл\n",
    "write_list_to_file(length_line_between_shoulders_ear, f_eye_shoulders)"
   ]
  },
  {
   "cell_type": "code",
   "execution_count": 59,
   "id": "3381c60e",
   "metadata": {},
   "outputs": [
    {
     "data": {
      "text/plain": [
       "[<matplotlib.lines.Line2D at 0x151807045b0>]"
      ]
     },
     "execution_count": 59,
     "metadata": {},
     "output_type": "execute_result"
    },
    {
     "data": {
      "image/png": "[encoded data removed]",
      "text/plain": [
       "<Figure size 432x288 with 1 Axes>"
      ]
     },
     "metadata": {
      "needs_background": "light"
     },
     "output_type": "display_data"
    }
   ],
   "source": [
    "plt.title('Изменение расстояния между линией глаз и линией плеч')\n",
    "plt.xlabel('Время')\n",
    "plt.ylabel('Расстояние между линией глаз и линией пле')\n",
    "plt.plot(length_line_between_shoulders_ear)"
   ]
  },
  {
   "cell_type": "markdown",
   "id": "f120560c",
   "metadata": {},
   "source": [
    "### Прищуривание\n",
    "При учете, что человек сидит относительно ровно за монитором"
   ]
  },
  {
   "cell_type": "markdown",
   "id": "115ecae8",
   "metadata": {},
   "source": [
    "![Image of Yaktocat](https://russianblogs.com/images/847/a8737ef69f9223795d160ee2add23d57.png)"
   ]
  },
  {
   "cell_type": "markdown",
   "id": "3350a90e",
   "metadata": {},
   "source": [
    "![Image of Yaktocat](https://russianblogs.com/images/147/64cb5e9e9a64d89369e599696a1a7dd3.JPEG)"
   ]
  },
  {
   "cell_type": "code",
   "execution_count": 11,
   "id": "2e9441e9",
   "metadata": {},
   "outputs": [],
   "source": [
    "def eye_aspect_ratio(eye):\n",
    "    # Рассчитать евклидово расстояние между двумя наборами\n",
    "         # Вертикальные координаты метки глаза (X, Y)\n",
    "    A = dist.euclidean(eye[1], eye[5])\n",
    "    B = dist.euclidean(eye[2], eye[4])\n",
    "         # Рассчитать евклидово расстояние между уровнями\n",
    "         # Горизонтальные координаты метки глаза (X, Y)\n",
    "    C = dist.euclidean(eye[0], eye[3])\n",
    "         # Расчет соотношения глаз\n",
    "    ear = (A + B) / (2.0 * C)\n",
    "         # Вернуться к соотношению сторон очков\n",
    "    return ear"
   ]
  },
  {
   "cell_type": "code",
   "execution_count": 39,
   "id": "4ef6a06b",
   "metadata": {},
   "outputs": [],
   "source": [
    "#получаем точки глаз\n",
    "(lStart, lEnd) = face_utils.FACIAL_LANDMARKS_IDXS[\"left_eye\"]\n",
    "(rStart, rEnd) = face_utils.FACIAL_LANDMARKS_IDXS[\"right_eye\"]\n",
    "\n",
    "EYE_AR_THRESH = 0.25 # пороговое значение для прищуривания\n",
    "BLINK_TRESH = 0.19 #порог моргания\n",
    "DURATION = 0\n",
    "WAIT_TIME = 2"
   ]
  },
  {
   "cell_type": "code",
   "execution_count": 40,
   "id": "0e1155db",
   "metadata": {},
   "outputs": [],
   "source": [
    "TOTAL_COUNT_BLINKING = 0\n",
    "IS_BLINKING = False"
   ]
  },
  {
   "cell_type": "markdown",
   "id": "068e6b7e",
   "metadata": {},
   "source": [
    "- При прищуривании первую итерацию считает за моргание\n",
    "\n",
    "Решение - выбрать разные пороги для прищуривания и моргания\n",
    "- Если смотреть вниз, то соотношение точек глаза изменяется и срабатывает прищур\n",
    "\n",
    "Можно выбрать нижнюю и верхнюю границу"
   ]
  },
  {
   "cell_type": "code",
   "execution_count": 41,
   "id": "2d867224",
   "metadata": {},
   "outputs": [],
   "source": [
    "cap = cv2.VideoCapture(0)\n",
    "ear_arr = []\n",
    "while cap.isOpened():\n",
    "    ret, frame = cap.read()\n",
    "\n",
    "    image = cv2.cvtColor(frame, cv2.COLOR_BGR2RGB)\n",
    "    \n",
    "    ################## ЛИЦО ################################\n",
    "    gray = cv2.cvtColor(frame, cv2.COLOR_BGR2GRAY)\n",
    "    rects = face_detector(gray, 0)\n",
    "\n",
    "    #нужные точки лица\n",
    "    for (i, rect) in enumerate(rects):\n",
    "        shape = face_predictor(gray, rect)\n",
    "        shape = face_utils.shape_to_np(shape) #массив точек лица\n",
    "        for i in range (36, 48): #отрисовываем нужные точки глаз\n",
    "            x, y = shape[i]\n",
    "            cv2.circle(image, (x, y), 1, (0, 255, 0), -1)\n",
    "        leftEye = shape[lStart:lEnd]\n",
    "        rightEye = shape[rStart:rEnd]\n",
    "        leftEAR = eye_aspect_ratio(leftEye)\n",
    "        rightEAR = eye_aspect_ratio(rightEye)\n",
    "        # Среднее соотношение сторон обоих глаз\n",
    "        ear = (leftEAR + rightEAR) / 2.0\n",
    "        ear_arr.append(ear)\n",
    "        cv2.putText(image, \"EAR: {:.2f}\".format(ear), (300, 30),\n",
    "                    cv2.FONT_HERSHEY_SIMPLEX, 0.7, (0, 0, 255), 2)\n",
    "        if (ear <= EYE_AR_THRESH):\n",
    "            DURATION += 1\n",
    "            if (DURATION > WAIT_TIME):\n",
    "                cv2.putText(image, \"Don't squint!\", (300, 450), cv2.FONT_HERSHEY_SIMPLEX, 0.7, (0, 255, 255), 2)\n",
    "            elif ((IS_BLINKING == False) & (ear <= BLINK_TRESH)):\n",
    "                TOTAL_COUNT_BLINKING += 1\n",
    "                IS_BLINKING = True\n",
    "        else:\n",
    "            DURATION = 0\n",
    "            IS_BLINKING = False\n",
    "            \n",
    "    image = cv2.cvtColor(image, cv2.COLOR_RGB2BGR)\n",
    "    cv2.putText(image, \"Blinks: {}\".format(TOTAL_COUNT_BLINKING), (10, 30),\n",
    "        cv2.FONT_HERSHEY_SIMPLEX, 0.7, (0, 0, 255), 2)\n",
    "    cv2.imshow('Raw Webcam Feed', image)\n",
    "    if cv2.waitKey(10) & 0xFF == ord('q'):\n",
    "        break\n",
    "        \n",
    "cap.release()\n",
    "cv2.destroyAllWindows()"
   ]
  },
  {
   "cell_type": "code",
   "execution_count": 10,
   "id": "6bec5d64",
   "metadata": {},
   "outputs": [],
   "source": [
    "#записали ear в файл\n",
    "write_list_to_file(ear_arr, f_ear)"
   ]
  },
  {
   "cell_type": "code",
   "execution_count": 11,
   "id": "c8b567fb",
   "metadata": {},
   "outputs": [
    {
     "data": {
      "text/plain": [
       "[<matplotlib.lines.Line2D at 0x228d3f02910>]"
      ]
     },
     "execution_count": 11,
     "metadata": {},
     "output_type": "execute_result"
    },
    {
     "data": {
      "image/png": "[encoded data removed]",
      "text/plain": [
       "<Figure size 432x288 with 1 Axes>"
      ]
     },
     "metadata": {
      "needs_background": "light"
     },
     "output_type": "display_data"
    }
   ],
   "source": [
    "plt.title('Изменение соотношения глаз (EAR)')\n",
    "plt.xlabel('Время')\n",
    "plt.ylabel('Соотношение глаз (EAR)')\n",
    "plt.plot(ear_arr)"
   ]
  }
 ],
 "metadata": {
  "kernelspec": {
   "display_name": "Python 3",
   "language": "python",
   "name": "python3"
  },
  "language_info": {
   "codemirror_mode": {
    "name": "ipython",
    "version": 3
   },
   "file_extension": ".py",
   "mimetype": "text/x-python",
   "name": "python",
   "nbconvert_exporter": "python",
   "pygments_lexer": "ipython3",
   "version": "3.8.8"
  }
 },
 "nbformat": 4,
 "nbformat_minor": 5
}
